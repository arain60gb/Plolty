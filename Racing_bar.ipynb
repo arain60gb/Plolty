{
  "nbformat": 4,
  "nbformat_minor": 0,
  "metadata": {
    "colab": {
      "name": "Racing_bar.ipynb",
      "provenance": [],
      "collapsed_sections": [],
      "authorship_tag": "ABX9TyPLdoJaYGUtxWOBjVW+WXeT",
      "include_colab_link": true
    },
    "kernelspec": {
      "name": "python3",
      "display_name": "Python 3"
    },
    "accelerator": "GPU",
    "gpuClass": "standard"
  },
  "cells": [
    {
      "cell_type": "markdown",
      "metadata": {
        "id": "view-in-github",
        "colab_type": "text"
      },
      "source": [
        "<a href=\"https://colab.research.google.com/github/zainali60/Plolty/blob/main/Racing_bar.ipynb\" target=\"_parent\"><img src=\"https://colab.research.google.com/assets/colab-badge.svg\" alt=\"Open In Colab\"/></a>"
      ]
    },
    {
      "cell_type": "code",
      "source": [
        "! pip install plotly --q"
      ],
      "metadata": {
        "id": "1OpvpGDsyf0n"
      },
      "execution_count": 1,
      "outputs": []
    },
    {
      "cell_type": "code",
      "source": [
        "import pandas as pd  # (version 1.0.0)\n",
        "import plotly.express as px  # (version 4.7.0)\n",
        "import plotly.io as pio\n",
        "import numpy as np\n",
        "import plotly.graph_objects as go"
      ],
      "metadata": {
        "id": "JsZPaTjSynUk"
      },
      "execution_count": 2,
      "outputs": []
    },
    {
      "cell_type": "code",
      "source": [
        "import warnings\n",
        "warnings.filterwarnings(\"ignore\", category=FutureWarning)"
      ],
      "metadata": {
        "id": "ucsUfEmrbJJY"
      },
      "execution_count": 4,
      "outputs": []
    },
    {
      "cell_type": "code",
      "source": [
        "df = pd.read_csv('/content/suicide-rate-1990-2017.csv')\n",
        "df.head(4)"
      ],
      "metadata": {
        "colab": {
          "base_uri": "https://localhost:8080/",
          "height": 175
        },
        "id": "WGDv5P9kzScl",
        "outputId": "f81a060f-1dc6-4e27-b75a-7ca743fe0198"
      },
      "execution_count": 3,
      "outputs": [
        {
          "output_type": "execute_result",
          "data": {
            "text/plain": [
              "       country code  year  suicide rate (deaths per 100,000) color_code  \\\n",
              "0  Afghanistan  AFG  1990                          10.318504    #000000   \n",
              "1  Afghanistan  AFG  1991                          10.327010    #000000   \n",
              "2  Afghanistan  AFG  1992                          10.271411    #000000   \n",
              "3  Afghanistan  AFG  1993                          10.376123    #000000   \n",
              "\n",
              "                  region  \n",
              "0  Eastern Mediterranean  \n",
              "1  Eastern Mediterranean  \n",
              "2  Eastern Mediterranean  \n",
              "3  Eastern Mediterranean  "
            ],
            "text/html": [
              "\n",
              "  <div id=\"df-643ce09e-ae53-42e3-8f8f-427950f27caf\">\n",
              "    <div class=\"colab-df-container\">\n",
              "      <div>\n",
              "<style scoped>\n",
              "    .dataframe tbody tr th:only-of-type {\n",
              "        vertical-align: middle;\n",
              "    }\n",
              "\n",
              "    .dataframe tbody tr th {\n",
              "        vertical-align: top;\n",
              "    }\n",
              "\n",
              "    .dataframe thead th {\n",
              "        text-align: right;\n",
              "    }\n",
              "</style>\n",
              "<table border=\"1\" class=\"dataframe\">\n",
              "  <thead>\n",
              "    <tr style=\"text-align: right;\">\n",
              "      <th></th>\n",
              "      <th>country</th>\n",
              "      <th>code</th>\n",
              "      <th>year</th>\n",
              "      <th>suicide rate (deaths per 100,000)</th>\n",
              "      <th>color_code</th>\n",
              "      <th>region</th>\n",
              "    </tr>\n",
              "  </thead>\n",
              "  <tbody>\n",
              "    <tr>\n",
              "      <th>0</th>\n",
              "      <td>Afghanistan</td>\n",
              "      <td>AFG</td>\n",
              "      <td>1990</td>\n",
              "      <td>10.318504</td>\n",
              "      <td>#000000</td>\n",
              "      <td>Eastern Mediterranean</td>\n",
              "    </tr>\n",
              "    <tr>\n",
              "      <th>1</th>\n",
              "      <td>Afghanistan</td>\n",
              "      <td>AFG</td>\n",
              "      <td>1991</td>\n",
              "      <td>10.327010</td>\n",
              "      <td>#000000</td>\n",
              "      <td>Eastern Mediterranean</td>\n",
              "    </tr>\n",
              "    <tr>\n",
              "      <th>2</th>\n",
              "      <td>Afghanistan</td>\n",
              "      <td>AFG</td>\n",
              "      <td>1992</td>\n",
              "      <td>10.271411</td>\n",
              "      <td>#000000</td>\n",
              "      <td>Eastern Mediterranean</td>\n",
              "    </tr>\n",
              "    <tr>\n",
              "      <th>3</th>\n",
              "      <td>Afghanistan</td>\n",
              "      <td>AFG</td>\n",
              "      <td>1993</td>\n",
              "      <td>10.376123</td>\n",
              "      <td>#000000</td>\n",
              "      <td>Eastern Mediterranean</td>\n",
              "    </tr>\n",
              "  </tbody>\n",
              "</table>\n",
              "</div>\n",
              "      <button class=\"colab-df-convert\" onclick=\"convertToInteractive('df-643ce09e-ae53-42e3-8f8f-427950f27caf')\"\n",
              "              title=\"Convert this dataframe to an interactive table.\"\n",
              "              style=\"display:none;\">\n",
              "        \n",
              "  <svg xmlns=\"http://www.w3.org/2000/svg\" height=\"24px\"viewBox=\"0 0 24 24\"\n",
              "       width=\"24px\">\n",
              "    <path d=\"M0 0h24v24H0V0z\" fill=\"none\"/>\n",
              "    <path d=\"M18.56 5.44l.94 2.06.94-2.06 2.06-.94-2.06-.94-.94-2.06-.94 2.06-2.06.94zm-11 1L8.5 8.5l.94-2.06 2.06-.94-2.06-.94L8.5 2.5l-.94 2.06-2.06.94zm10 10l.94 2.06.94-2.06 2.06-.94-2.06-.94-.94-2.06-.94 2.06-2.06.94z\"/><path d=\"M17.41 7.96l-1.37-1.37c-.4-.4-.92-.59-1.43-.59-.52 0-1.04.2-1.43.59L10.3 9.45l-7.72 7.72c-.78.78-.78 2.05 0 2.83L4 21.41c.39.39.9.59 1.41.59.51 0 1.02-.2 1.41-.59l7.78-7.78 2.81-2.81c.8-.78.8-2.07 0-2.86zM5.41 20L4 18.59l7.72-7.72 1.47 1.35L5.41 20z\"/>\n",
              "  </svg>\n",
              "      </button>\n",
              "      \n",
              "  <style>\n",
              "    .colab-df-container {\n",
              "      display:flex;\n",
              "      flex-wrap:wrap;\n",
              "      gap: 12px;\n",
              "    }\n",
              "\n",
              "    .colab-df-convert {\n",
              "      background-color: #E8F0FE;\n",
              "      border: none;\n",
              "      border-radius: 50%;\n",
              "      cursor: pointer;\n",
              "      display: none;\n",
              "      fill: #1967D2;\n",
              "      height: 32px;\n",
              "      padding: 0 0 0 0;\n",
              "      width: 32px;\n",
              "    }\n",
              "\n",
              "    .colab-df-convert:hover {\n",
              "      background-color: #E2EBFA;\n",
              "      box-shadow: 0px 1px 2px rgba(60, 64, 67, 0.3), 0px 1px 3px 1px rgba(60, 64, 67, 0.15);\n",
              "      fill: #174EA6;\n",
              "    }\n",
              "\n",
              "    [theme=dark] .colab-df-convert {\n",
              "      background-color: #3B4455;\n",
              "      fill: #D2E3FC;\n",
              "    }\n",
              "\n",
              "    [theme=dark] .colab-df-convert:hover {\n",
              "      background-color: #434B5C;\n",
              "      box-shadow: 0px 1px 3px 1px rgba(0, 0, 0, 0.15);\n",
              "      filter: drop-shadow(0px 1px 2px rgba(0, 0, 0, 0.3));\n",
              "      fill: #FFFFFF;\n",
              "    }\n",
              "  </style>\n",
              "\n",
              "      <script>\n",
              "        const buttonEl =\n",
              "          document.querySelector('#df-643ce09e-ae53-42e3-8f8f-427950f27caf button.colab-df-convert');\n",
              "        buttonEl.style.display =\n",
              "          google.colab.kernel.accessAllowed ? 'block' : 'none';\n",
              "\n",
              "        async function convertToInteractive(key) {\n",
              "          const element = document.querySelector('#df-643ce09e-ae53-42e3-8f8f-427950f27caf');\n",
              "          const dataTable =\n",
              "            await google.colab.kernel.invokeFunction('convertToInteractive',\n",
              "                                                     [key], {});\n",
              "          if (!dataTable) return;\n",
              "\n",
              "          const docLinkHtml = 'Like what you see? Visit the ' +\n",
              "            '<a target=\"_blank\" href=https://colab.research.google.com/notebooks/data_table.ipynb>data table notebook</a>'\n",
              "            + ' to learn more about interactive tables.';\n",
              "          element.innerHTML = '';\n",
              "          dataTable['output_type'] = 'display_data';\n",
              "          await google.colab.output.renderOutput(dataTable, element);\n",
              "          const docLink = document.createElement('div');\n",
              "          docLink.innerHTML = docLinkHtml;\n",
              "          element.appendChild(docLink);\n",
              "        }\n",
              "      </script>\n",
              "    </div>\n",
              "  </div>\n",
              "  "
            ]
          },
          "metadata": {},
          "execution_count": 3
        }
      ]
    },
    {
      "cell_type": "code",
      "source": [
        "dict_keys=['one','two','three','four','five','six','seven','eight','nine','ten','eleven','twelve','thirteen',\n",
        "           'fourteen','fifteen','sixteen','seventeen','eighteen','nineteen','twenty','twentyone','twentytwo',\n",
        "           'twentythree','twentyfour','twentyfive','twentysix','twentyseven','twentyeight']\n",
        "\n",
        "years=[1990,1991,1992,1993,1994,1995,1996,1997,1998,1999,2000,2001,2002,2003,\n",
        "       2004,2005,2006,2007,2008,2009,2010,2011,2012,2013,2014,2015,2016,2017]"
      ],
      "metadata": {
        "id": "MiODYO9Kx2Rr"
      },
      "execution_count": 5,
      "outputs": []
    },
    {
      "cell_type": "code",
      "source": [
        "n_frame={}\n",
        "\n",
        "for y, d in zip(years, dict_keys):\n",
        "    dataframe=df[(df['year']==y)&(df['region']=='Europe')]\n",
        "    dataframe=dataframe.nlargest(n=5,columns=['suicide rate (deaths per 100,000)'])\n",
        "    dataframe=dataframe.sort_values(by=['year','suicide rate (deaths per 100,000)'])\n",
        "\n",
        "    n_frame[d]=dataframe"
      ],
      "metadata": {
        "id": "u49Wfo4tyzmc"
      },
      "execution_count": 6,
      "outputs": []
    },
    {
      "cell_type": "code",
      "source": [
        "fig = go.Figure(\n",
        "    data=[\n",
        "        go.Bar(\n",
        "        x=n_frame['one']['suicide rate (deaths per 100,000)'], y=n_frame['one']['country'],orientation='h',\n",
        "        text=n_frame['one']['suicide rate (deaths per 100,000)'], texttemplate='%{text:.3s}',\n",
        "        textfont={'size':18}, textposition='inside', insidetextanchor='middle',\n",
        "        width=0.9, marker={'color':n_frame['one']['color_code']})\n",
        "    ],\n",
        "    layout=go.Layout(\n",
        "        xaxis=dict(range=[0, 60], autorange=False, title=dict(text='suicide rate (deaths per 100,000)',font=dict(size=18))),\n",
        "        yaxis=dict(range=[-0.5, 5.5], autorange=False,tickfont=dict(size=14)),\n",
        "        title=dict(text='Suicide Rates per Country: 1990',font=dict(size=28),x=0.5,xanchor='center'),\n",
        "        # Add button\n",
        "        updatemenus=[dict(\n",
        "            type=\"buttons\",\n",
        "            buttons=[dict(label=\"Play\",\n",
        "                          method=\"animate\",\n",
        "                          # https://github.com/plotly/plotly.js/blob/master/src/plots/animation_attributes.js\n",
        "                          args=[None,\n",
        "                          {\"frame\": {\"duration\": 1000, \"redraw\": True},\n",
        "                          \"transition\": {\"duration\":250,\n",
        "                          \"easing\": \"linear\"}}]\n",
        "            )]\n",
        "        )]\n",
        "    ),\n",
        "    frames=[\n",
        "            go.Frame(\n",
        "                data=[\n",
        "                        go.Bar(x=value['suicide rate (deaths per 100,000)'], y=value['country'],\n",
        "                        orientation='h',text=value['suicide rate (deaths per 100,000)'],\n",
        "                        marker={'color':value['color_code']})\n",
        "                    ],\n",
        "                layout=go.Layout(\n",
        "                        xaxis=dict(range=[0, 60], autorange=False),\n",
        "                        yaxis=dict(range=[-0.5, 5.5], autorange=False,tickfont=dict(size=14)),\n",
        "                        title=dict(text='Suicide Rates per Country: '+str(value['year'].values[0]),\n",
        "                        font=dict(size=28))\n",
        "                    )\n",
        "            )\n",
        "        for key, value in n_frame.items()\n",
        "    ]\n",
        ")\n",
        "\n",
        "#-------------------------------------------\n",
        "print(pio.show(fig))"
      ],
      "metadata": {
        "colab": {
          "base_uri": "https://localhost:8080/",
          "height": 559
        },
        "id": "llvsU4r3y8vU",
        "outputId": "de691c5b-875a-422f-8b07-714dbf6aa26b"
      },
      "execution_count": 12,
      "outputs": [
        {
          "output_type": "display_data",
          "data": {
            "text/html": [
              "<html>\n",
              "<head><meta charset=\"utf-8\" /></head>\n",
              "<body>\n",
              "    <div>            <script src=\"https://cdnjs.cloudflare.com/ajax/libs/mathjax/2.7.5/MathJax.js?config=TeX-AMS-MML_SVG\"></script><script type=\"text/javascript\">if (window.MathJax) {MathJax.Hub.Config({SVG: {font: \"STIX-Web\"}});}</script>                <script type=\"text/javascript\">window.PlotlyConfig = {MathJaxConfig: 'local'};</script>\n",
              "        <script src=\"https://cdn.plot.ly/plotly-2.8.3.min.js\"></script>                <div id=\"562d86c0-23f8-4abe-b4cb-a7a3c9ab0f52\" class=\"plotly-graph-div\" style=\"height:525px; width:100%;\"></div>            <script type=\"text/javascript\">                                    window.PLOTLYENV=window.PLOTLYENV || {};                                    if (document.getElementById(\"562d86c0-23f8-4abe-b4cb-a7a3c9ab0f52\")) {                    Plotly.newPlot(                        \"562d86c0-23f8-4abe-b4cb-a7a3c9ab0f52\",                        [{\"insidetextanchor\":\"middle\",\"marker\":{\"color\":[\"#FF9900\",\"#FF8080\",\"#008080\",\"#993300\",\"#FFCC99\"]},\"orientation\":\"h\",\"text\":[27.68452724,27.96991886,28.3210154,33.81013435,98.83169616],\"textfont\":{\"size\":18},\"textposition\":\"inside\",\"texttemplate\":\"%{text:.3s}\",\"width\":0.9,\"x\":[27.68452724,27.96991886,28.3210154,33.81013435,98.83169616],\"y\":[\"Slovenia\",\"Lithuania\",\"Russia\",\"Hungary\",\"Greenland\"],\"type\":\"bar\"}],                        {\"title\":{\"font\":{\"size\":28},\"text\":\"Suicide Rates per Country: 1990\",\"x\":0.5,\"xanchor\":\"center\"},\"updatemenus\":[{\"buttons\":[{\"args\":[null,{\"frame\":{\"duration\":1000,\"redraw\":true},\"transition\":{\"duration\":250,\"easing\":\"linear\"}}],\"label\":\"Play\",\"method\":\"animate\"}],\"type\":\"buttons\"}],\"xaxis\":{\"autorange\":false,\"range\":[0,60],\"title\":{\"font\":{\"size\":18},\"text\":\"suicide rate (deaths per 100,000)\"}},\"yaxis\":{\"autorange\":false,\"range\":[-0.5,5.5],\"tickfont\":{\"size\":14}},\"template\":{\"data\":{\"bar\":[{\"error_x\":{\"color\":\"#2a3f5f\"},\"error_y\":{\"color\":\"#2a3f5f\"},\"marker\":{\"line\":{\"color\":\"#E5ECF6\",\"width\":0.5},\"pattern\":{\"fillmode\":\"overlay\",\"size\":10,\"solidity\":0.2}},\"type\":\"bar\"}],\"barpolar\":[{\"marker\":{\"line\":{\"color\":\"#E5ECF6\",\"width\":0.5},\"pattern\":{\"fillmode\":\"overlay\",\"size\":10,\"solidity\":0.2}},\"type\":\"barpolar\"}],\"carpet\":[{\"aaxis\":{\"endlinecolor\":\"#2a3f5f\",\"gridcolor\":\"white\",\"linecolor\":\"white\",\"minorgridcolor\":\"white\",\"startlinecolor\":\"#2a3f5f\"},\"baxis\":{\"endlinecolor\":\"#2a3f5f\",\"gridcolor\":\"white\",\"linecolor\":\"white\",\"minorgridcolor\":\"white\",\"startlinecolor\":\"#2a3f5f\"},\"type\":\"carpet\"}],\"choropleth\":[{\"colorbar\":{\"outlinewidth\":0,\"ticks\":\"\"},\"type\":\"choropleth\"}],\"contour\":[{\"colorbar\":{\"outlinewidth\":0,\"ticks\":\"\"},\"colorscale\":[[0.0,\"#0d0887\"],[0.1111111111111111,\"#46039f\"],[0.2222222222222222,\"#7201a8\"],[0.3333333333333333,\"#9c179e\"],[0.4444444444444444,\"#bd3786\"],[0.5555555555555556,\"#d8576b\"],[0.6666666666666666,\"#ed7953\"],[0.7777777777777778,\"#fb9f3a\"],[0.8888888888888888,\"#fdca26\"],[1.0,\"#f0f921\"]],\"type\":\"contour\"}],\"contourcarpet\":[{\"colorbar\":{\"outlinewidth\":0,\"ticks\":\"\"},\"type\":\"contourcarpet\"}],\"heatmap\":[{\"colorbar\":{\"outlinewidth\":0,\"ticks\":\"\"},\"colorscale\":[[0.0,\"#0d0887\"],[0.1111111111111111,\"#46039f\"],[0.2222222222222222,\"#7201a8\"],[0.3333333333333333,\"#9c179e\"],[0.4444444444444444,\"#bd3786\"],[0.5555555555555556,\"#d8576b\"],[0.6666666666666666,\"#ed7953\"],[0.7777777777777778,\"#fb9f3a\"],[0.8888888888888888,\"#fdca26\"],[1.0,\"#f0f921\"]],\"type\":\"heatmap\"}],\"heatmapgl\":[{\"colorbar\":{\"outlinewidth\":0,\"ticks\":\"\"},\"colorscale\":[[0.0,\"#0d0887\"],[0.1111111111111111,\"#46039f\"],[0.2222222222222222,\"#7201a8\"],[0.3333333333333333,\"#9c179e\"],[0.4444444444444444,\"#bd3786\"],[0.5555555555555556,\"#d8576b\"],[0.6666666666666666,\"#ed7953\"],[0.7777777777777778,\"#fb9f3a\"],[0.8888888888888888,\"#fdca26\"],[1.0,\"#f0f921\"]],\"type\":\"heatmapgl\"}],\"histogram\":[{\"marker\":{\"pattern\":{\"fillmode\":\"overlay\",\"size\":10,\"solidity\":0.2}},\"type\":\"histogram\"}],\"histogram2d\":[{\"colorbar\":{\"outlinewidth\":0,\"ticks\":\"\"},\"colorscale\":[[0.0,\"#0d0887\"],[0.1111111111111111,\"#46039f\"],[0.2222222222222222,\"#7201a8\"],[0.3333333333333333,\"#9c179e\"],[0.4444444444444444,\"#bd3786\"],[0.5555555555555556,\"#d8576b\"],[0.6666666666666666,\"#ed7953\"],[0.7777777777777778,\"#fb9f3a\"],[0.8888888888888888,\"#fdca26\"],[1.0,\"#f0f921\"]],\"type\":\"histogram2d\"}],\"histogram2dcontour\":[{\"colorbar\":{\"outlinewidth\":0,\"ticks\":\"\"},\"colorscale\":[[0.0,\"#0d0887\"],[0.1111111111111111,\"#46039f\"],[0.2222222222222222,\"#7201a8\"],[0.3333333333333333,\"#9c179e\"],[0.4444444444444444,\"#bd3786\"],[0.5555555555555556,\"#d8576b\"],[0.6666666666666666,\"#ed7953\"],[0.7777777777777778,\"#fb9f3a\"],[0.8888888888888888,\"#fdca26\"],[1.0,\"#f0f921\"]],\"type\":\"histogram2dcontour\"}],\"mesh3d\":[{\"colorbar\":{\"outlinewidth\":0,\"ticks\":\"\"},\"type\":\"mesh3d\"}],\"parcoords\":[{\"line\":{\"colorbar\":{\"outlinewidth\":0,\"ticks\":\"\"}},\"type\":\"parcoords\"}],\"pie\":[{\"automargin\":true,\"type\":\"pie\"}],\"scatter\":[{\"marker\":{\"colorbar\":{\"outlinewidth\":0,\"ticks\":\"\"}},\"type\":\"scatter\"}],\"scatter3d\":[{\"line\":{\"colorbar\":{\"outlinewidth\":0,\"ticks\":\"\"}},\"marker\":{\"colorbar\":{\"outlinewidth\":0,\"ticks\":\"\"}},\"type\":\"scatter3d\"}],\"scattercarpet\":[{\"marker\":{\"colorbar\":{\"outlinewidth\":0,\"ticks\":\"\"}},\"type\":\"scattercarpet\"}],\"scattergeo\":[{\"marker\":{\"colorbar\":{\"outlinewidth\":0,\"ticks\":\"\"}},\"type\":\"scattergeo\"}],\"scattergl\":[{\"marker\":{\"colorbar\":{\"outlinewidth\":0,\"ticks\":\"\"}},\"type\":\"scattergl\"}],\"scattermapbox\":[{\"marker\":{\"colorbar\":{\"outlinewidth\":0,\"ticks\":\"\"}},\"type\":\"scattermapbox\"}],\"scatterpolar\":[{\"marker\":{\"colorbar\":{\"outlinewidth\":0,\"ticks\":\"\"}},\"type\":\"scatterpolar\"}],\"scatterpolargl\":[{\"marker\":{\"colorbar\":{\"outlinewidth\":0,\"ticks\":\"\"}},\"type\":\"scatterpolargl\"}],\"scatterternary\":[{\"marker\":{\"colorbar\":{\"outlinewidth\":0,\"ticks\":\"\"}},\"type\":\"scatterternary\"}],\"surface\":[{\"colorbar\":{\"outlinewidth\":0,\"ticks\":\"\"},\"colorscale\":[[0.0,\"#0d0887\"],[0.1111111111111111,\"#46039f\"],[0.2222222222222222,\"#7201a8\"],[0.3333333333333333,\"#9c179e\"],[0.4444444444444444,\"#bd3786\"],[0.5555555555555556,\"#d8576b\"],[0.6666666666666666,\"#ed7953\"],[0.7777777777777778,\"#fb9f3a\"],[0.8888888888888888,\"#fdca26\"],[1.0,\"#f0f921\"]],\"type\":\"surface\"}],\"table\":[{\"cells\":{\"fill\":{\"color\":\"#EBF0F8\"},\"line\":{\"color\":\"white\"}},\"header\":{\"fill\":{\"color\":\"#C8D4E3\"},\"line\":{\"color\":\"white\"}},\"type\":\"table\"}]},\"layout\":{\"annotationdefaults\":{\"arrowcolor\":\"#2a3f5f\",\"arrowhead\":0,\"arrowwidth\":1},\"autotypenumbers\":\"strict\",\"coloraxis\":{\"colorbar\":{\"outlinewidth\":0,\"ticks\":\"\"}},\"colorscale\":{\"diverging\":[[0,\"#8e0152\"],[0.1,\"#c51b7d\"],[0.2,\"#de77ae\"],[0.3,\"#f1b6da\"],[0.4,\"#fde0ef\"],[0.5,\"#f7f7f7\"],[0.6,\"#e6f5d0\"],[0.7,\"#b8e186\"],[0.8,\"#7fbc41\"],[0.9,\"#4d9221\"],[1,\"#276419\"]],\"sequential\":[[0.0,\"#0d0887\"],[0.1111111111111111,\"#46039f\"],[0.2222222222222222,\"#7201a8\"],[0.3333333333333333,\"#9c179e\"],[0.4444444444444444,\"#bd3786\"],[0.5555555555555556,\"#d8576b\"],[0.6666666666666666,\"#ed7953\"],[0.7777777777777778,\"#fb9f3a\"],[0.8888888888888888,\"#fdca26\"],[1.0,\"#f0f921\"]],\"sequentialminus\":[[0.0,\"#0d0887\"],[0.1111111111111111,\"#46039f\"],[0.2222222222222222,\"#7201a8\"],[0.3333333333333333,\"#9c179e\"],[0.4444444444444444,\"#bd3786\"],[0.5555555555555556,\"#d8576b\"],[0.6666666666666666,\"#ed7953\"],[0.7777777777777778,\"#fb9f3a\"],[0.8888888888888888,\"#fdca26\"],[1.0,\"#f0f921\"]]},\"colorway\":[\"#636efa\",\"#EF553B\",\"#00cc96\",\"#ab63fa\",\"#FFA15A\",\"#19d3f3\",\"#FF6692\",\"#B6E880\",\"#FF97FF\",\"#FECB52\"],\"font\":{\"color\":\"#2a3f5f\"},\"geo\":{\"bgcolor\":\"white\",\"lakecolor\":\"white\",\"landcolor\":\"#E5ECF6\",\"showlakes\":true,\"showland\":true,\"subunitcolor\":\"white\"},\"hoverlabel\":{\"align\":\"left\"},\"hovermode\":\"closest\",\"mapbox\":{\"style\":\"light\"},\"paper_bgcolor\":\"white\",\"plot_bgcolor\":\"#E5ECF6\",\"polar\":{\"angularaxis\":{\"gridcolor\":\"white\",\"linecolor\":\"white\",\"ticks\":\"\"},\"bgcolor\":\"#E5ECF6\",\"radialaxis\":{\"gridcolor\":\"white\",\"linecolor\":\"white\",\"ticks\":\"\"}},\"scene\":{\"xaxis\":{\"backgroundcolor\":\"#E5ECF6\",\"gridcolor\":\"white\",\"gridwidth\":2,\"linecolor\":\"white\",\"showbackground\":true,\"ticks\":\"\",\"zerolinecolor\":\"white\"},\"yaxis\":{\"backgroundcolor\":\"#E5ECF6\",\"gridcolor\":\"white\",\"gridwidth\":2,\"linecolor\":\"white\",\"showbackground\":true,\"ticks\":\"\",\"zerolinecolor\":\"white\"},\"zaxis\":{\"backgroundcolor\":\"#E5ECF6\",\"gridcolor\":\"white\",\"gridwidth\":2,\"linecolor\":\"white\",\"showbackground\":true,\"ticks\":\"\",\"zerolinecolor\":\"white\"}},\"shapedefaults\":{\"line\":{\"color\":\"#2a3f5f\"}},\"ternary\":{\"aaxis\":{\"gridcolor\":\"white\",\"linecolor\":\"white\",\"ticks\":\"\"},\"baxis\":{\"gridcolor\":\"white\",\"linecolor\":\"white\",\"ticks\":\"\"},\"bgcolor\":\"#E5ECF6\",\"caxis\":{\"gridcolor\":\"white\",\"linecolor\":\"white\",\"ticks\":\"\"}},\"title\":{\"x\":0.05},\"xaxis\":{\"automargin\":true,\"gridcolor\":\"white\",\"linecolor\":\"white\",\"ticks\":\"\",\"title\":{\"standoff\":15},\"zerolinecolor\":\"white\",\"zerolinewidth\":2},\"yaxis\":{\"automargin\":true,\"gridcolor\":\"white\",\"linecolor\":\"white\",\"ticks\":\"\",\"title\":{\"standoff\":15},\"zerolinecolor\":\"white\",\"zerolinewidth\":2}}}},                        {\"responsive\": true}                    ).then(function(){\n",
              "                            Plotly.addFrames('562d86c0-23f8-4abe-b4cb-a7a3c9ab0f52', [{\"data\":[{\"marker\":{\"color\":[\"#FF9900\",\"#FF8080\",\"#008080\",\"#993300\",\"#FFCC99\"]},\"orientation\":\"h\",\"text\":[27.68452724,27.96991886,28.3210154,33.81013435,98.83169616],\"x\":[27.68452724,27.96991886,28.3210154,33.81013435,98.83169616],\"y\":[\"Slovenia\",\"Lithuania\",\"Russia\",\"Hungary\",\"Greenland\"],\"type\":\"bar\"}],\"layout\":{\"title\":{\"font\":{\"size\":28},\"text\":\"Suicide Rates per Country: 1990\"},\"xaxis\":{\"autorange\":false,\"range\":[0,60]},\"yaxis\":{\"autorange\":false,\"range\":[-0.5,5.5],\"tickfont\":{\"size\":14}}}},{\"data\":[{\"marker\":{\"color\":[\"#FF9900\",\"#008080\",\"#FF8080\",\"#993300\",\"#FFCC99\"]},\"orientation\":\"h\",\"text\":[28.64423866,29.61750428,30.8689814,32.34245015,96.08516412],\"x\":[28.64423866,29.61750428,30.8689814,32.34245015,96.08516412],\"y\":[\"Slovenia\",\"Russia\",\"Lithuania\",\"Hungary\",\"Greenland\"],\"type\":\"bar\"}],\"layout\":{\"title\":{\"font\":{\"size\":28},\"text\":\"Suicide Rates per Country: 1991\"},\"xaxis\":{\"autorange\":false,\"range\":[0,60]},\"yaxis\":{\"autorange\":false,\"range\":[-0.5,5.5],\"tickfont\":{\"size\":14}}}},{\"data\":[{\"marker\":{\"color\":[\"#9999FF\",\"#993300\",\"#FF8080\",\"#008080\",\"#FFCC99\"]},\"orientation\":\"h\",\"text\":[30.32244547,32.78575793,32.8404175,34.48857804,93.23062931],\"x\":[30.32244547,32.78575793,32.8404175,34.48857804,93.23062931],\"y\":[\"Latvia\",\"Hungary\",\"Lithuania\",\"Russia\",\"Greenland\"],\"type\":\"bar\"}],\"layout\":{\"title\":{\"font\":{\"size\":28},\"text\":\"Suicide Rates per Country: 1992\"},\"xaxis\":{\"autorange\":false,\"range\":[0,60]},\"yaxis\":{\"autorange\":false,\"range\":[-0.5,5.5],\"tickfont\":{\"size\":14}}}},{\"data\":[{\"marker\":{\"color\":[\"#800080\",\"#9999FF\",\"#FF8080\",\"#008080\",\"#FFCC99\"]},\"orientation\":\"h\",\"text\":[34.47647733,36.4928388,39.46039366,44.01726434,91.07142832],\"x\":[34.47647733,36.4928388,39.46039366,44.01726434,91.07142832],\"y\":[\"Estonia\",\"Latvia\",\"Lithuania\",\"Russia\",\"Greenland\"],\"type\":\"bar\"}],\"layout\":{\"title\":{\"font\":{\"size\":28},\"text\":\"Suicide Rates per Country: 1993\"},\"xaxis\":{\"autorange\":false,\"range\":[0,60]},\"yaxis\":{\"autorange\":false,\"range\":[-0.5,5.5],\"tickfont\":{\"size\":14}}}},{\"data\":[{\"marker\":{\"color\":[\"#800080\",\"#9999FF\",\"#FF8080\",\"#008080\",\"#FFCC99\"]},\"orientation\":\"h\",\"text\":[39.47178508,40.87625763,44.14595049,50.17633284,89.22549608],\"x\":[39.47178508,40.87625763,44.14595049,50.17633284,89.22549608],\"y\":[\"Estonia\",\"Latvia\",\"Lithuania\",\"Russia\",\"Greenland\"],\"type\":\"bar\"}],\"layout\":{\"title\":{\"font\":{\"size\":28},\"text\":\"Suicide Rates per Country: 1994\"},\"xaxis\":{\"autorange\":false,\"range\":[0,60]},\"yaxis\":{\"autorange\":false,\"range\":[-0.5,5.5],\"tickfont\":{\"size\":14}}}},{\"data\":[{\"marker\":{\"color\":[\"#800080\",\"#9999FF\",\"#FF8080\",\"#008080\",\"#FFCC99\"]},\"orientation\":\"h\",\"text\":[38.1647336,38.39237718,44.77338671,48.07255348,87.05193756],\"x\":[38.1647336,38.39237718,44.77338671,48.07255348,87.05193756],\"y\":[\"Estonia\",\"Latvia\",\"Lithuania\",\"Russia\",\"Greenland\"],\"type\":\"bar\"}],\"layout\":{\"title\":{\"font\":{\"size\":28},\"text\":\"Suicide Rates per Country: 1995\"},\"xaxis\":{\"autorange\":false,\"range\":[0,60]},\"yaxis\":{\"autorange\":false,\"range\":[-0.5,5.5],\"tickfont\":{\"size\":14}}}},{\"data\":[{\"marker\":{\"color\":[\"#9999FF\",\"#800080\",\"#FF8080\",\"#008080\",\"#FFCC99\"]},\"orientation\":\"h\",\"text\":[32.44108859,32.70590405,42.79710793,43.75022984,85.70780258],\"x\":[32.44108859,32.70590405,42.79710793,43.75022984,85.70780258],\"y\":[\"Latvia\",\"Estonia\",\"Lithuania\",\"Russia\",\"Greenland\"],\"type\":\"bar\"}],\"layout\":{\"title\":{\"font\":{\"size\":28},\"text\":\"Suicide Rates per Country: 1996\"},\"xaxis\":{\"autorange\":false,\"range\":[0,60]},\"yaxis\":{\"autorange\":false,\"range\":[-0.5,5.5],\"tickfont\":{\"size\":14}}}},{\"data\":[{\"marker\":{\"color\":[\"#800080\",\"#FFFFCC\",\"#008080\",\"#FF8080\",\"#FFCC99\"]},\"orientation\":\"h\",\"text\":[31.87196872,32.87936394,39.75737961,40.78307855,84.58582055],\"x\":[31.87196872,32.87936394,39.75737961,40.78307855,84.58582055],\"y\":[\"Estonia\",\"Belarus\",\"Russia\",\"Lithuania\",\"Greenland\"],\"type\":\"bar\"}],\"layout\":{\"title\":{\"font\":{\"size\":28},\"text\":\"Suicide Rates per Country: 1997\"},\"xaxis\":{\"autorange\":false,\"range\":[0,60]},\"yaxis\":{\"autorange\":false,\"range\":[-0.5,5.5],\"tickfont\":{\"size\":14}}}},{\"data\":[{\"marker\":{\"color\":[\"#800080\",\"#FFFFCC\",\"#008080\",\"#FF8080\",\"#FFCC99\"]},\"orientation\":\"h\",\"text\":[32.45698366,34.5703973,38.81936013,40.6590344,82.86845561],\"x\":[32.45698366,34.5703973,38.81936013,40.6590344,82.86845561],\"y\":[\"Estonia\",\"Belarus\",\"Russia\",\"Lithuania\",\"Greenland\"],\"type\":\"bar\"}],\"layout\":{\"title\":{\"font\":{\"size\":28},\"text\":\"Suicide Rates per Country: 1998\"},\"xaxis\":{\"autorange\":false,\"range\":[0,60]},\"yaxis\":{\"autorange\":false,\"range\":[-0.5,5.5],\"tickfont\":{\"size\":14}}}},{\"data\":[{\"marker\":{\"color\":[\"#008000\",\"#FFFFCC\",\"#FF8080\",\"#008080\",\"#FFCC99\"]},\"orientation\":\"h\",\"text\":[30.04522003,35.52301644,40.14071997,42.49159181,80.84243022],\"x\":[30.04522003,35.52301644,40.14071997,42.49159181,80.84243022],\"y\":[\"Kazakhstan\",\"Belarus\",\"Lithuania\",\"Russia\",\"Greenland\"],\"type\":\"bar\"}],\"layout\":{\"title\":{\"font\":{\"size\":28},\"text\":\"Suicide Rates per Country: 1999\"},\"xaxis\":{\"autorange\":false,\"range\":[0,60]},\"yaxis\":{\"autorange\":false,\"range\":[-0.5,5.5],\"tickfont\":{\"size\":14}}}},{\"data\":[{\"marker\":{\"color\":[\"#008000\",\"#FFFFCC\",\"#FF8080\",\"#008080\",\"#FFCC99\"]},\"orientation\":\"h\",\"text\":[33.43099146,33.72758037,40.40695313,44.18017983,78.58067589],\"x\":[33.43099146,33.72758037,40.40695313,44.18017983,78.58067589],\"y\":[\"Kazakhstan\",\"Belarus\",\"Lithuania\",\"Russia\",\"Greenland\"],\"type\":\"bar\"}],\"layout\":{\"title\":{\"font\":{\"size\":28},\"text\":\"Suicide Rates per Country: 2000\"},\"xaxis\":{\"autorange\":false,\"range\":[0,60]},\"yaxis\":{\"autorange\":false,\"range\":[-0.5,5.5],\"tickfont\":{\"size\":14}}}},{\"data\":[{\"marker\":{\"color\":[\"#008000\",\"#FFFFCC\",\"#FF8080\",\"#008080\",\"#FFCC99\"]},\"orientation\":\"h\",\"text\":[35.03061069,35.0551137,41.52278771,43.41586102,77.13132121],\"x\":[35.03061069,35.0551137,41.52278771,43.41586102,77.13132121],\"y\":[\"Kazakhstan\",\"Belarus\",\"Lithuania\",\"Russia\",\"Greenland\"],\"type\":\"bar\"}],\"layout\":{\"title\":{\"font\":{\"size\":28},\"text\":\"Suicide Rates per Country: 2001\"},\"xaxis\":{\"autorange\":false,\"range\":[0,60]},\"yaxis\":{\"autorange\":false,\"range\":[-0.5,5.5],\"tickfont\":{\"size\":14}}}},{\"data\":[{\"marker\":{\"color\":[\"#008000\",\"#FFFFCC\",\"#FF8080\",\"#008080\",\"#FFCC99\"]},\"orientation\":\"h\",\"text\":[35.43394987,36.95362752,39.88733483,42.92428152,75.29432391],\"x\":[35.43394987,36.95362752,39.88733483,42.92428152,75.29432391],\"y\":[\"Kazakhstan\",\"Belarus\",\"Lithuania\",\"Russia\",\"Greenland\"],\"type\":\"bar\"}],\"layout\":{\"title\":{\"font\":{\"size\":28},\"text\":\"Suicide Rates per Country: 2002\"},\"xaxis\":{\"autorange\":false,\"range\":[0,60]},\"yaxis\":{\"autorange\":false,\"range\":[-0.5,5.5],\"tickfont\":{\"size\":14}}}},{\"data\":[{\"marker\":{\"color\":[\"#FFFFCC\",\"#008000\",\"#FF8080\",\"#008080\",\"#FFCC99\"]},\"orientation\":\"h\",\"text\":[35.73983409,36.91345613,38.45515633,42.753197,73.55686368],\"x\":[35.73983409,36.91345613,38.45515633,42.753197,73.55686368],\"y\":[\"Belarus\",\"Kazakhstan\",\"Lithuania\",\"Russia\",\"Greenland\"],\"type\":\"bar\"}],\"layout\":{\"title\":{\"font\":{\"size\":28},\"text\":\"Suicide Rates per Country: 2003\"},\"xaxis\":{\"autorange\":false,\"range\":[0,60]},\"yaxis\":{\"autorange\":false,\"range\":[-0.5,5.5],\"tickfont\":{\"size\":14}}}},{\"data\":[{\"marker\":{\"color\":[\"#FFFFCC\",\"#FF8080\",\"#008000\",\"#008080\",\"#FFCC99\"]},\"orientation\":\"h\",\"text\":[34.53625807,37.54145883,37.9621409,41.84544795,72.50488732],\"x\":[34.53625807,37.54145883,37.9621409,41.84544795,72.50488732],\"y\":[\"Belarus\",\"Lithuania\",\"Kazakhstan\",\"Russia\",\"Greenland\"],\"type\":\"bar\"}],\"layout\":{\"title\":{\"font\":{\"size\":28},\"text\":\"Suicide Rates per Country: 2004\"},\"xaxis\":{\"autorange\":false,\"range\":[0,60]},\"yaxis\":{\"autorange\":false,\"range\":[-0.5,5.5],\"tickfont\":{\"size\":14}}}},{\"data\":[{\"marker\":{\"color\":[\"#FFFFCC\",\"#008000\",\"#FF8080\",\"#008080\",\"#FFCC99\"]},\"orientation\":\"h\",\"text\":[35.0777284,38.28511187,38.56010803,43.24536356,71.14640689],\"x\":[35.0777284,38.28511187,38.56010803,43.24536356,71.14640689],\"y\":[\"Belarus\",\"Kazakhstan\",\"Lithuania\",\"Russia\",\"Greenland\"],\"type\":\"bar\"}],\"layout\":{\"title\":{\"font\":{\"size\":28},\"text\":\"Suicide Rates per Country: 2005\"},\"xaxis\":{\"autorange\":false,\"range\":[0,60]},\"yaxis\":{\"autorange\":false,\"range\":[-0.5,5.5],\"tickfont\":{\"size\":14}}}},{\"data\":[{\"marker\":{\"color\":[\"#FFFFCC\",\"#008000\",\"#FF8080\",\"#008080\",\"#FFCC99\"]},\"orientation\":\"h\",\"text\":[33.11092188,37.94302494,38.33895401,38.56668601,69.79954511],\"x\":[33.11092188,37.94302494,38.33895401,38.56668601,69.79954511],\"y\":[\"Belarus\",\"Kazakhstan\",\"Lithuania\",\"Russia\",\"Greenland\"],\"type\":\"bar\"}],\"layout\":{\"title\":{\"font\":{\"size\":28},\"text\":\"Suicide Rates per Country: 2006\"},\"xaxis\":{\"autorange\":false,\"range\":[0,60]},\"yaxis\":{\"autorange\":false,\"range\":[-0.5,5.5],\"tickfont\":{\"size\":14}}}},{\"data\":[{\"marker\":{\"color\":[\"#FFFFCC\",\"#008080\",\"#008000\",\"#FF8080\",\"#FFCC99\"]},\"orientation\":\"h\",\"text\":[30.36381932,35.6992254,35.80804768,39.55163689,67.62227129],\"x\":[30.36381932,35.6992254,35.80804768,39.55163689,67.62227129],\"y\":[\"Belarus\",\"Russia\",\"Kazakhstan\",\"Lithuania\",\"Greenland\"],\"type\":\"bar\"}],\"layout\":{\"title\":{\"font\":{\"size\":28},\"text\":\"Suicide Rates per Country: 2007\"},\"xaxis\":{\"autorange\":false,\"range\":[0,60]},\"yaxis\":{\"autorange\":false,\"range\":[-0.5,5.5],\"tickfont\":{\"size\":14}}}},{\"data\":[{\"marker\":{\"color\":[\"#FFFFCC\",\"#008000\",\"#008080\",\"#FF8080\",\"#FFCC99\"]},\"orientation\":\"h\",\"text\":[30.48032543,32.96248639,34.8930479,37.03494444,66.51679313],\"x\":[30.48032543,32.96248639,34.8930479,37.03494444,66.51679313],\"y\":[\"Belarus\",\"Kazakhstan\",\"Russia\",\"Lithuania\",\"Greenland\"],\"type\":\"bar\"}],\"layout\":{\"title\":{\"font\":{\"size\":28},\"text\":\"Suicide Rates per Country: 2008\"},\"xaxis\":{\"autorange\":false,\"range\":[0,60]},\"yaxis\":{\"autorange\":false,\"range\":[-0.5,5.5],\"tickfont\":{\"size\":14}}}},{\"data\":[{\"marker\":{\"color\":[\"#FFFFCC\",\"#008000\",\"#008080\",\"#FF8080\",\"#FFCC99\"]},\"orientation\":\"h\",\"text\":[29.89694257,30.06614665,32.19579595,32.80968449,65.21526457],\"x\":[29.89694257,30.06614665,32.19579595,32.80968449,65.21526457],\"y\":[\"Belarus\",\"Kazakhstan\",\"Russia\",\"Lithuania\",\"Greenland\"],\"type\":\"bar\"}],\"layout\":{\"title\":{\"font\":{\"size\":28},\"text\":\"Suicide Rates per Country: 2009\"},\"xaxis\":{\"autorange\":false,\"range\":[0,60]},\"yaxis\":{\"autorange\":false,\"range\":[-0.5,5.5],\"tickfont\":{\"size\":14}}}},{\"data\":[{\"marker\":{\"color\":[\"#FFFFCC\",\"#008000\",\"#008080\",\"#FF8080\",\"#FFCC99\"]},\"orientation\":\"h\",\"text\":[29.21760042,29.53235606,31.87555782,32.01011467,63.99491137],\"x\":[29.21760042,29.53235606,31.87555782,32.01011467,63.99491137],\"y\":[\"Belarus\",\"Kazakhstan\",\"Russia\",\"Lithuania\",\"Greenland\"],\"type\":\"bar\"}],\"layout\":{\"title\":{\"font\":{\"size\":28},\"text\":\"Suicide Rates per Country: 2010\"},\"xaxis\":{\"autorange\":false,\"range\":[0,60]},\"yaxis\":{\"autorange\":false,\"range\":[-0.5,5.5],\"tickfont\":{\"size\":14}}}},{\"data\":[{\"marker\":{\"color\":[\"#008000\",\"#FFFFCC\",\"#008080\",\"#FF8080\",\"#FFCC99\"]},\"orientation\":\"h\",\"text\":[28.497202,29.2426896,29.31352467,31.32517588,62.1087551],\"x\":[28.497202,29.2426896,29.31352467,31.32517588,62.1087551],\"y\":[\"Kazakhstan\",\"Belarus\",\"Russia\",\"Lithuania\",\"Greenland\"],\"type\":\"bar\"}],\"layout\":{\"title\":{\"font\":{\"size\":28},\"text\":\"Suicide Rates per Country: 2011\"},\"xaxis\":{\"autorange\":false,\"range\":[0,60]},\"yaxis\":{\"autorange\":false,\"range\":[-0.5,5.5],\"tickfont\":{\"size\":14}}}},{\"data\":[{\"marker\":{\"color\":[\"#FFFFCC\",\"#008000\",\"#008080\",\"#FF8080\",\"#FFCC99\"]},\"orientation\":\"h\",\"text\":[24.2811457,27.36906614,28.42101224,30.97556589,60.46276321],\"x\":[24.2811457,27.36906614,28.42101224,30.97556589,60.46276321],\"y\":[\"Belarus\",\"Kazakhstan\",\"Russia\",\"Lithuania\",\"Greenland\"],\"type\":\"bar\"}],\"layout\":{\"title\":{\"font\":{\"size\":28},\"text\":\"Suicide Rates per Country: 2012\"},\"xaxis\":{\"autorange\":false,\"range\":[0,60]},\"yaxis\":{\"autorange\":false,\"range\":[-0.5,5.5],\"tickfont\":{\"size\":14}}}},{\"data\":[{\"marker\":{\"color\":[\"#FFFFCC\",\"#008000\",\"#008080\",\"#FF8080\",\"#FFCC99\"]},\"orientation\":\"h\",\"text\":[22.56644214,25.85464155,27.75696353,31.8997562,59.43176918],\"x\":[22.56644214,25.85464155,27.75696353,31.8997562,59.43176918],\"y\":[\"Belarus\",\"Kazakhstan\",\"Russia\",\"Lithuania\",\"Greenland\"],\"type\":\"bar\"}],\"layout\":{\"title\":{\"font\":{\"size\":28},\"text\":\"Suicide Rates per Country: 2013\"},\"xaxis\":{\"autorange\":false,\"range\":[0,60]},\"yaxis\":{\"autorange\":false,\"range\":[-0.5,5.5],\"tickfont\":{\"size\":14}}}},{\"data\":[{\"marker\":{\"color\":[\"#FFFFCC\",\"#008000\",\"#008080\",\"#FF8080\",\"#FFCC99\"]},\"orientation\":\"h\",\"text\":[21.09553997,23.91206752,28.01997006,30.4101887,58.43569089],\"x\":[21.09553997,23.91206752,28.01997006,30.4101887,58.43569089],\"y\":[\"Belarus\",\"Kazakhstan\",\"Russia\",\"Lithuania\",\"Greenland\"],\"type\":\"bar\"}],\"layout\":{\"title\":{\"font\":{\"size\":28},\"text\":\"Suicide Rates per Country: 2014\"},\"xaxis\":{\"autorange\":false,\"range\":[0,60]},\"yaxis\":{\"autorange\":false,\"range\":[-0.5,5.5],\"tickfont\":{\"size\":14}}}},{\"data\":[{\"marker\":{\"color\":[\"#008000\",\"#008080\",\"#0066CC\",\"#FF8080\",\"#FFCC99\"]},\"orientation\":\"h\",\"text\":[22.86606956,26.62448443,28.42139453,29.41731891,52.73603901],\"x\":[22.86606956,26.62448443,28.42139453,29.41731891,52.73603901],\"y\":[\"Kazakhstan\",\"Russia\",\"Ukraine\",\"Lithuania\",\"Greenland\"],\"type\":\"bar\"}],\"layout\":{\"title\":{\"font\":{\"size\":28},\"text\":\"Suicide Rates per Country: 2015\"},\"xaxis\":{\"autorange\":false,\"range\":[0,60]},\"yaxis\":{\"autorange\":false,\"range\":[-0.5,5.5],\"tickfont\":{\"size\":14}}}},{\"data\":[{\"marker\":{\"color\":[\"#008000\",\"#008080\",\"#0066CC\",\"#FF8080\",\"#FFCC99\"]},\"orientation\":\"h\",\"text\":[22.76949663,25.3915076,27.96606294,28.1767995,51.60994852],\"x\":[22.76949663,25.3915076,27.96606294,28.1767995,51.60994852],\"y\":[\"Kazakhstan\",\"Russia\",\"Ukraine\",\"Lithuania\",\"Greenland\"],\"type\":\"bar\"}],\"layout\":{\"title\":{\"font\":{\"size\":28},\"text\":\"Suicide Rates per Country: 2016\"},\"xaxis\":{\"autorange\":false,\"range\":[0,60]},\"yaxis\":{\"autorange\":false,\"range\":[-0.5,5.5],\"tickfont\":{\"size\":14}}}},{\"data\":[{\"marker\":{\"color\":[\"#008000\",\"#008080\",\"#0066CC\",\"#FF8080\",\"#FFCC99\"]},\"orientation\":\"h\",\"text\":[22.98552802,25.08766881,25.62222536,27.99058442,51.06323868],\"x\":[22.98552802,25.08766881,25.62222536,27.99058442,51.06323868],\"y\":[\"Kazakhstan\",\"Russia\",\"Ukraine\",\"Lithuania\",\"Greenland\"],\"type\":\"bar\"}],\"layout\":{\"title\":{\"font\":{\"size\":28},\"text\":\"Suicide Rates per Country: 2017\"},\"xaxis\":{\"autorange\":false,\"range\":[0,60]},\"yaxis\":{\"autorange\":false,\"range\":[-0.5,5.5],\"tickfont\":{\"size\":14}}}}]);\n",
              "                        }).then(function(){\n",
              "                            \n",
              "var gd = document.getElementById('562d86c0-23f8-4abe-b4cb-a7a3c9ab0f52');\n",
              "var x = new MutationObserver(function (mutations, observer) {{\n",
              "        var display = window.getComputedStyle(gd).display;\n",
              "        if (!display || display === 'none') {{\n",
              "            console.log([gd, 'removed!']);\n",
              "            Plotly.purge(gd);\n",
              "            observer.disconnect();\n",
              "        }}\n",
              "}});\n",
              "\n",
              "// Listen for the removal of the full notebook cells\n",
              "var notebookContainer = gd.closest('#notebook-container');\n",
              "if (notebookContainer) {{\n",
              "    x.observe(notebookContainer, {childList: true});\n",
              "}}\n",
              "\n",
              "// Listen for the clearing of the current output cell\n",
              "var outputEl = gd.closest('.output');\n",
              "if (outputEl) {{\n",
              "    x.observe(outputEl, {childList: true});\n",
              "}}\n",
              "\n",
              "                        })                };                            </script>        </div>\n",
              "</body>\n",
              "</html>"
            ]
          },
          "metadata": {}
        },
        {
          "output_type": "stream",
          "name": "stdout",
          "text": [
            "None\n"
          ]
        }
      ]
    },
    {
      "cell_type": "code",
      "source": [
        ""
      ],
      "metadata": {
        "id": "GXRWJPZPcTzg"
      },
      "execution_count": null,
      "outputs": []
    }
  ]
}